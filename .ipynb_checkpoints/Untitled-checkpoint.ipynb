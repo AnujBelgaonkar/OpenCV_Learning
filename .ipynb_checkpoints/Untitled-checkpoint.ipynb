{
 "cells": [
  {
   "cell_type": "code",
   "execution_count": 1,
   "id": "0c065029-0d2d-4555-8e3c-58716691a848",
   "metadata": {
    "collapsed": true
   },
   "outputs": [
    {
     "name": "stdout",
     "output_type": "stream",
     "text": [
      "Defaulting to user installation because normal site-packages is not writeable\n",
      "Requirement already satisfied: jupyterthemes in c:\\users\\anuj belgaonkar\\appdata\\roaming\\python\\python311\\site-packages (0.20.0)\n",
      "Requirement already satisfied: jupyter-core in c:\\users\\anuj belgaonkar\\appdata\\roaming\\python\\python311\\site-packages (from jupyterthemes) (5.3.0)\n",
      "Requirement already satisfied: notebook>=5.6.0 in c:\\users\\anuj belgaonkar\\appdata\\roaming\\python\\python311\\site-packages (from jupyterthemes) (7.1.3)\n",
      "Requirement already satisfied: ipython>=5.4.1 in c:\\users\\anuj belgaonkar\\appdata\\roaming\\python\\python311\\site-packages (from jupyterthemes) (8.12.3)\n",
      "Requirement already satisfied: matplotlib>=1.4.3 in c:\\users\\anuj belgaonkar\\appdata\\roaming\\python\\python311\\site-packages (from jupyterthemes) (3.8.3)\n",
      "Requirement already satisfied: lesscpy>=0.11.2 in c:\\users\\anuj belgaonkar\\appdata\\roaming\\python\\python311\\site-packages (from jupyterthemes) (0.15.1)\n",
      "Requirement already satisfied: backcall in c:\\users\\anuj belgaonkar\\appdata\\roaming\\python\\python311\\site-packages (from ipython>=5.4.1->jupyterthemes) (0.2.0)\n",
      "Requirement already satisfied: decorator in c:\\users\\anuj belgaonkar\\appdata\\roaming\\python\\python311\\site-packages (from ipython>=5.4.1->jupyterthemes) (5.1.1)\n",
      "Requirement already satisfied: jedi>=0.16 in c:\\users\\anuj belgaonkar\\appdata\\roaming\\python\\python311\\site-packages (from ipython>=5.4.1->jupyterthemes) (0.18.2)\n",
      "Requirement already satisfied: matplotlib-inline in c:\\users\\anuj belgaonkar\\appdata\\roaming\\python\\python311\\site-packages (from ipython>=5.4.1->jupyterthemes) (0.1.6)\n",
      "Requirement already satisfied: pickleshare in c:\\users\\anuj belgaonkar\\appdata\\roaming\\python\\python311\\site-packages (from ipython>=5.4.1->jupyterthemes) (0.7.5)\n",
      "Requirement already satisfied: prompt-toolkit!=3.0.37,<3.1.0,>=3.0.30 in c:\\users\\anuj belgaonkar\\appdata\\roaming\\python\\python311\\site-packages (from ipython>=5.4.1->jupyterthemes) (3.0.38)\n",
      "Requirement already satisfied: pygments>=2.4.0 in c:\\users\\anuj belgaonkar\\appdata\\roaming\\python\\python311\\site-packages (from ipython>=5.4.1->jupyterthemes) (2.14.0)\n",
      "Requirement already satisfied: stack-data in c:\\users\\anuj belgaonkar\\appdata\\roaming\\python\\python311\\site-packages (from ipython>=5.4.1->jupyterthemes) (0.6.2)\n",
      "Requirement already satisfied: traitlets>=5 in c:\\users\\anuj belgaonkar\\appdata\\roaming\\python\\python311\\site-packages (from ipython>=5.4.1->jupyterthemes) (5.9.0)\n",
      "Requirement already satisfied: colorama in c:\\users\\anuj belgaonkar\\appdata\\roaming\\python\\python311\\site-packages (from ipython>=5.4.1->jupyterthemes) (0.4.6)\n",
      "Requirement already satisfied: ply in c:\\users\\anuj belgaonkar\\appdata\\roaming\\python\\python311\\site-packages (from lesscpy>=0.11.2->jupyterthemes) (3.11)\n",
      "Requirement already satisfied: contourpy>=1.0.1 in c:\\users\\anuj belgaonkar\\appdata\\roaming\\python\\python311\\site-packages (from matplotlib>=1.4.3->jupyterthemes) (1.2.0)\n",
      "Requirement already satisfied: cycler>=0.10 in c:\\users\\anuj belgaonkar\\appdata\\roaming\\python\\python311\\site-packages (from matplotlib>=1.4.3->jupyterthemes) (0.12.1)\n",
      "Requirement already satisfied: fonttools>=4.22.0 in c:\\users\\anuj belgaonkar\\appdata\\roaming\\python\\python311\\site-packages (from matplotlib>=1.4.3->jupyterthemes) (4.49.0)\n",
      "Requirement already satisfied: kiwisolver>=1.3.1 in c:\\users\\anuj belgaonkar\\appdata\\roaming\\python\\python311\\site-packages (from matplotlib>=1.4.3->jupyterthemes) (1.4.5)\n",
      "Requirement already satisfied: numpy<2,>=1.21 in c:\\users\\anuj belgaonkar\\appdata\\roaming\\python\\python311\\site-packages (from matplotlib>=1.4.3->jupyterthemes) (1.24.3)\n",
      "Requirement already satisfied: packaging>=20.0 in c:\\users\\anuj belgaonkar\\appdata\\roaming\\python\\python311\\site-packages (from matplotlib>=1.4.3->jupyterthemes) (23.2)\n",
      "Requirement already satisfied: pillow>=8 in c:\\users\\anuj belgaonkar\\appdata\\roaming\\python\\python311\\site-packages (from matplotlib>=1.4.3->jupyterthemes) (10.3.0)\n",
      "Requirement already satisfied: pyparsing>=2.3.1 in c:\\users\\anuj belgaonkar\\appdata\\roaming\\python\\python311\\site-packages (from matplotlib>=1.4.3->jupyterthemes) (3.1.1)\n",
      "Requirement already satisfied: python-dateutil>=2.7 in c:\\users\\anuj belgaonkar\\appdata\\roaming\\python\\python311\\site-packages (from matplotlib>=1.4.3->jupyterthemes) (2.8.2)\n",
      "Requirement already satisfied: jupyter-server<3,>=2.4.0 in c:\\users\\anuj belgaonkar\\appdata\\roaming\\python\\python311\\site-packages (from notebook>=5.6.0->jupyterthemes) (2.5.0)\n",
      "Requirement already satisfied: jupyterlab-server<3,>=2.22.1 in c:\\users\\anuj belgaonkar\\appdata\\roaming\\python\\python311\\site-packages (from notebook>=5.6.0->jupyterthemes) (2.27.1)\n",
      "Requirement already satisfied: jupyterlab<4.2,>=4.1.1 in c:\\users\\anuj belgaonkar\\appdata\\roaming\\python\\python311\\site-packages (from notebook>=5.6.0->jupyterthemes) (4.1.8)\n",
      "Requirement already satisfied: notebook-shim<0.3,>=0.2 in c:\\users\\anuj belgaonkar\\appdata\\roaming\\python\\python311\\site-packages (from notebook>=5.6.0->jupyterthemes) (0.2.2)\n",
      "Requirement already satisfied: tornado>=6.2.0 in c:\\users\\anuj belgaonkar\\appdata\\roaming\\python\\python311\\site-packages (from notebook>=5.6.0->jupyterthemes) (6.4)\n",
      "Requirement already satisfied: platformdirs>=2.5 in c:\\users\\anuj belgaonkar\\appdata\\roaming\\python\\python311\\site-packages (from jupyter-core->jupyterthemes) (3.2.0)\n",
      "Requirement already satisfied: pywin32>=300 in c:\\users\\anuj belgaonkar\\appdata\\roaming\\python\\python311\\site-packages (from jupyter-core->jupyterthemes) (306)\n",
      "Requirement already satisfied: parso<0.9.0,>=0.8.0 in c:\\users\\anuj belgaonkar\\appdata\\roaming\\python\\python311\\site-packages (from jedi>=0.16->ipython>=5.4.1->jupyterthemes) (0.8.3)\n",
      "Requirement already satisfied: anyio>=3.1.0 in c:\\users\\anuj belgaonkar\\appdata\\roaming\\python\\python311\\site-packages (from jupyter-server<3,>=2.4.0->notebook>=5.6.0->jupyterthemes) (3.6.2)\n",
      "Requirement already satisfied: argon2-cffi in c:\\users\\anuj belgaonkar\\appdata\\roaming\\python\\python311\\site-packages (from jupyter-server<3,>=2.4.0->notebook>=5.6.0->jupyterthemes) (21.3.0)\n",
      "Requirement already satisfied: jinja2 in c:\\users\\anuj belgaonkar\\appdata\\roaming\\python\\python311\\site-packages (from jupyter-server<3,>=2.4.0->notebook>=5.6.0->jupyterthemes) (3.1.2)\n",
      "Requirement already satisfied: jupyter-client>=7.4.4 in c:\\users\\anuj belgaonkar\\appdata\\roaming\\python\\python311\\site-packages (from jupyter-server<3,>=2.4.0->notebook>=5.6.0->jupyterthemes) (8.1.0)\n",
      "Requirement already satisfied: jupyter-events>=0.4.0 in c:\\users\\anuj belgaonkar\\appdata\\roaming\\python\\python311\\site-packages (from jupyter-server<3,>=2.4.0->notebook>=5.6.0->jupyterthemes) (0.6.3)\n",
      "Requirement already satisfied: jupyter-server-terminals in c:\\users\\anuj belgaonkar\\appdata\\roaming\\python\\python311\\site-packages (from jupyter-server<3,>=2.4.0->notebook>=5.6.0->jupyterthemes) (0.4.4)\n",
      "Requirement already satisfied: nbconvert>=6.4.4 in c:\\users\\anuj belgaonkar\\appdata\\roaming\\python\\python311\\site-packages (from jupyter-server<3,>=2.4.0->notebook>=5.6.0->jupyterthemes) (7.16.3)\n",
      "Requirement already satisfied: nbformat>=5.3.0 in c:\\users\\anuj belgaonkar\\appdata\\roaming\\python\\python311\\site-packages (from jupyter-server<3,>=2.4.0->notebook>=5.6.0->jupyterthemes) (5.8.0)\n",
      "Requirement already satisfied: prometheus-client in c:\\users\\anuj belgaonkar\\appdata\\roaming\\python\\python311\\site-packages (from jupyter-server<3,>=2.4.0->notebook>=5.6.0->jupyterthemes) (0.16.0)\n",
      "Requirement already satisfied: pywinpty in c:\\users\\anuj belgaonkar\\appdata\\roaming\\python\\python311\\site-packages (from jupyter-server<3,>=2.4.0->notebook>=5.6.0->jupyterthemes) (2.0.10)\n",
      "Requirement already satisfied: pyzmq>=24 in c:\\users\\anuj belgaonkar\\appdata\\roaming\\python\\python311\\site-packages (from jupyter-server<3,>=2.4.0->notebook>=5.6.0->jupyterthemes) (25.0.2)\n",
      "Requirement already satisfied: send2trash in c:\\users\\anuj belgaonkar\\appdata\\roaming\\python\\python311\\site-packages (from jupyter-server<3,>=2.4.0->notebook>=5.6.0->jupyterthemes) (1.8.0)\n",
      "Requirement already satisfied: terminado>=0.8.3 in c:\\users\\anuj belgaonkar\\appdata\\roaming\\python\\python311\\site-packages (from jupyter-server<3,>=2.4.0->notebook>=5.6.0->jupyterthemes) (0.17.1)\n",
      "Requirement already satisfied: websocket-client in c:\\users\\anuj belgaonkar\\appdata\\roaming\\python\\python311\\site-packages (from jupyter-server<3,>=2.4.0->notebook>=5.6.0->jupyterthemes) (1.5.1)\n",
      "Requirement already satisfied: async-lru>=1.0.0 in c:\\users\\anuj belgaonkar\\appdata\\roaming\\python\\python311\\site-packages (from jupyterlab<4.2,>=4.1.1->notebook>=5.6.0->jupyterthemes) (2.0.2)\n",
      "Requirement already satisfied: httpx>=0.25.0 in c:\\users\\anuj belgaonkar\\appdata\\roaming\\python\\python311\\site-packages (from jupyterlab<4.2,>=4.1.1->notebook>=5.6.0->jupyterthemes) (0.27.0)\n",
      "Requirement already satisfied: ipykernel>=6.5.0 in c:\\users\\anuj belgaonkar\\appdata\\roaming\\python\\python311\\site-packages (from jupyterlab<4.2,>=4.1.1->notebook>=5.6.0->jupyterthemes) (6.22.0)\n",
      "Requirement already satisfied: jupyter-lsp>=2.0.0 in c:\\users\\anuj belgaonkar\\appdata\\roaming\\python\\python311\\site-packages (from jupyterlab<4.2,>=4.1.1->notebook>=5.6.0->jupyterthemes) (2.2.0)\n",
      "Requirement already satisfied: babel>=2.10 in c:\\users\\anuj belgaonkar\\appdata\\roaming\\python\\python311\\site-packages (from jupyterlab-server<3,>=2.22.1->notebook>=5.6.0->jupyterthemes) (2.12.1)\n",
      "Requirement already satisfied: json5>=0.9.0 in c:\\users\\anuj belgaonkar\\appdata\\roaming\\python\\python311\\site-packages (from jupyterlab-server<3,>=2.22.1->notebook>=5.6.0->jupyterthemes) (0.9.14)\n",
      "Requirement already satisfied: jsonschema>=4.18.0 in c:\\users\\anuj belgaonkar\\appdata\\roaming\\python\\python311\\site-packages (from jupyterlab-server<3,>=2.22.1->notebook>=5.6.0->jupyterthemes) (4.22.0)\n",
      "Requirement already satisfied: requests>=2.31 in c:\\users\\anuj belgaonkar\\appdata\\roaming\\python\\python311\\site-packages (from jupyterlab-server<3,>=2.22.1->notebook>=5.6.0->jupyterthemes) (2.31.0)\n",
      "Requirement already satisfied: wcwidth in c:\\users\\anuj belgaonkar\\appdata\\roaming\\python\\python311\\site-packages (from prompt-toolkit!=3.0.37,<3.1.0,>=3.0.30->ipython>=5.4.1->jupyterthemes) (0.2.6)\n",
      "Requirement already satisfied: six>=1.5 in c:\\users\\anuj belgaonkar\\appdata\\roaming\\python\\python311\\site-packages (from python-dateutil>=2.7->matplotlib>=1.4.3->jupyterthemes) (1.16.0)\n",
      "Requirement already satisfied: executing>=1.2.0 in c:\\users\\anuj belgaonkar\\appdata\\roaming\\python\\python311\\site-packages (from stack-data->ipython>=5.4.1->jupyterthemes) (1.2.0)\n",
      "Requirement already satisfied: asttokens>=2.1.0 in c:\\users\\anuj belgaonkar\\appdata\\roaming\\python\\python311\\site-packages (from stack-data->ipython>=5.4.1->jupyterthemes) (2.2.1)\n",
      "Requirement already satisfied: pure-eval in c:\\users\\anuj belgaonkar\\appdata\\roaming\\python\\python311\\site-packages (from stack-data->ipython>=5.4.1->jupyterthemes) (0.2.2)\n",
      "Requirement already satisfied: idna>=2.8 in c:\\users\\anuj belgaonkar\\appdata\\roaming\\python\\python311\\site-packages (from anyio>=3.1.0->jupyter-server<3,>=2.4.0->notebook>=5.6.0->jupyterthemes) (2.10)\n",
      "Requirement already satisfied: sniffio>=1.1 in c:\\users\\anuj belgaonkar\\appdata\\roaming\\python\\python311\\site-packages (from anyio>=3.1.0->jupyter-server<3,>=2.4.0->notebook>=5.6.0->jupyterthemes) (1.3.0)\n",
      "Requirement already satisfied: typing-extensions>=4.0.0 in c:\\users\\anuj belgaonkar\\appdata\\roaming\\python\\python311\\site-packages (from async-lru>=1.0.0->jupyterlab<4.2,>=4.1.1->notebook>=5.6.0->jupyterthemes) (4.11.0)\n",
      "Requirement already satisfied: certifi in c:\\users\\anuj belgaonkar\\appdata\\roaming\\python\\python311\\site-packages (from httpx>=0.25.0->jupyterlab<4.2,>=4.1.1->notebook>=5.6.0->jupyterthemes) (2023.11.17)\n",
      "Requirement already satisfied: httpcore==1.* in c:\\users\\anuj belgaonkar\\appdata\\roaming\\python\\python311\\site-packages (from httpx>=0.25.0->jupyterlab<4.2,>=4.1.1->notebook>=5.6.0->jupyterthemes) (1.0.5)\n",
      "Requirement already satisfied: h11<0.15,>=0.13 in c:\\users\\anuj belgaonkar\\appdata\\roaming\\python\\python311\\site-packages (from httpcore==1.*->httpx>=0.25.0->jupyterlab<4.2,>=4.1.1->notebook>=5.6.0->jupyterthemes) (0.14.0)\n",
      "Requirement already satisfied: comm>=0.1.1 in c:\\users\\anuj belgaonkar\\appdata\\roaming\\python\\python311\\site-packages (from ipykernel>=6.5.0->jupyterlab<4.2,>=4.1.1->notebook>=5.6.0->jupyterthemes) (0.1.3)\n",
      "Requirement already satisfied: debugpy>=1.6.5 in c:\\users\\anuj belgaonkar\\appdata\\roaming\\python\\python311\\site-packages (from ipykernel>=6.5.0->jupyterlab<4.2,>=4.1.1->notebook>=5.6.0->jupyterthemes) (1.6.7)\n",
      "Requirement already satisfied: nest-asyncio in c:\\users\\anuj belgaonkar\\appdata\\roaming\\python\\python311\\site-packages (from ipykernel>=6.5.0->jupyterlab<4.2,>=4.1.1->notebook>=5.6.0->jupyterthemes) (1.5.6)\n",
      "Requirement already satisfied: psutil in c:\\users\\anuj belgaonkar\\appdata\\roaming\\python\\python311\\site-packages (from ipykernel>=6.5.0->jupyterlab<4.2,>=4.1.1->notebook>=5.6.0->jupyterthemes) (5.9.4)\n",
      "Requirement already satisfied: MarkupSafe>=2.0 in c:\\users\\anuj belgaonkar\\appdata\\roaming\\python\\python311\\site-packages (from jinja2->jupyter-server<3,>=2.4.0->notebook>=5.6.0->jupyterthemes) (2.1.2)\n",
      "Requirement already satisfied: attrs>=22.2.0 in c:\\users\\anuj belgaonkar\\appdata\\roaming\\python\\python311\\site-packages (from jsonschema>=4.18.0->jupyterlab-server<3,>=2.22.1->notebook>=5.6.0->jupyterthemes) (22.2.0)\n",
      "Requirement already satisfied: jsonschema-specifications>=2023.03.6 in c:\\users\\anuj belgaonkar\\appdata\\roaming\\python\\python311\\site-packages (from jsonschema>=4.18.0->jupyterlab-server<3,>=2.22.1->notebook>=5.6.0->jupyterthemes) (2023.12.1)\n",
      "Requirement already satisfied: referencing>=0.28.4 in c:\\users\\anuj belgaonkar\\appdata\\roaming\\python\\python311\\site-packages (from jsonschema>=4.18.0->jupyterlab-server<3,>=2.22.1->notebook>=5.6.0->jupyterthemes) (0.35.1)\n",
      "Requirement already satisfied: rpds-py>=0.7.1 in c:\\users\\anuj belgaonkar\\appdata\\roaming\\python\\python311\\site-packages (from jsonschema>=4.18.0->jupyterlab-server<3,>=2.22.1->notebook>=5.6.0->jupyterthemes) (0.18.0)\n",
      "Requirement already satisfied: python-json-logger>=2.0.4 in c:\\users\\anuj belgaonkar\\appdata\\roaming\\python\\python311\\site-packages (from jupyter-events>=0.4.0->jupyter-server<3,>=2.4.0->notebook>=5.6.0->jupyterthemes) (2.0.7)\n",
      "Requirement already satisfied: pyyaml>=5.3 in c:\\users\\anuj belgaonkar\\appdata\\roaming\\python\\python311\\site-packages (from jupyter-events>=0.4.0->jupyter-server<3,>=2.4.0->notebook>=5.6.0->jupyterthemes) (6.0)\n",
      "Requirement already satisfied: rfc3339-validator in c:\\users\\anuj belgaonkar\\appdata\\roaming\\python\\python311\\site-packages (from jupyter-events>=0.4.0->jupyter-server<3,>=2.4.0->notebook>=5.6.0->jupyterthemes) (0.1.4)\n",
      "Requirement already satisfied: rfc3986-validator>=0.1.1 in c:\\users\\anuj belgaonkar\\appdata\\roaming\\python\\python311\\site-packages (from jupyter-events>=0.4.0->jupyter-server<3,>=2.4.0->notebook>=5.6.0->jupyterthemes) (0.1.1)\n",
      "Requirement already satisfied: beautifulsoup4 in c:\\users\\anuj belgaonkar\\appdata\\roaming\\python\\python311\\site-packages (from nbconvert>=6.4.4->jupyter-server<3,>=2.4.0->notebook>=5.6.0->jupyterthemes) (4.12.2)\n",
      "Requirement already satisfied: bleach!=5.0.0 in c:\\users\\anuj belgaonkar\\appdata\\roaming\\python\\python311\\site-packages (from nbconvert>=6.4.4->jupyter-server<3,>=2.4.0->notebook>=5.6.0->jupyterthemes) (6.0.0)\n",
      "Requirement already satisfied: defusedxml in c:\\users\\anuj belgaonkar\\appdata\\roaming\\python\\python311\\site-packages (from nbconvert>=6.4.4->jupyter-server<3,>=2.4.0->notebook>=5.6.0->jupyterthemes) (0.7.1)\n",
      "Requirement already satisfied: jupyterlab-pygments in c:\\users\\anuj belgaonkar\\appdata\\roaming\\python\\python311\\site-packages (from nbconvert>=6.4.4->jupyter-server<3,>=2.4.0->notebook>=5.6.0->jupyterthemes) (0.2.2)\n",
      "Requirement already satisfied: mistune<4,>=2.0.3 in c:\\users\\anuj belgaonkar\\appdata\\roaming\\python\\python311\\site-packages (from nbconvert>=6.4.4->jupyter-server<3,>=2.4.0->notebook>=5.6.0->jupyterthemes) (2.0.5)\n",
      "Requirement already satisfied: nbclient>=0.5.0 in c:\\users\\anuj belgaonkar\\appdata\\roaming\\python\\python311\\site-packages (from nbconvert>=6.4.4->jupyter-server<3,>=2.4.0->notebook>=5.6.0->jupyterthemes) (0.7.3)\n",
      "Requirement already satisfied: pandocfilters>=1.4.1 in c:\\users\\anuj belgaonkar\\appdata\\roaming\\python\\python311\\site-packages (from nbconvert>=6.4.4->jupyter-server<3,>=2.4.0->notebook>=5.6.0->jupyterthemes) (1.5.0)\n",
      "Requirement already satisfied: tinycss2 in c:\\users\\anuj belgaonkar\\appdata\\roaming\\python\\python311\\site-packages (from nbconvert>=6.4.4->jupyter-server<3,>=2.4.0->notebook>=5.6.0->jupyterthemes) (1.2.1)\n",
      "Requirement already satisfied: fastjsonschema in c:\\users\\anuj belgaonkar\\appdata\\roaming\\python\\python311\\site-packages (from nbformat>=5.3.0->jupyter-server<3,>=2.4.0->notebook>=5.6.0->jupyterthemes) (2.16.3)\n",
      "Requirement already satisfied: charset-normalizer<4,>=2 in c:\\users\\anuj belgaonkar\\appdata\\roaming\\python\\python311\\site-packages (from requests>=2.31->jupyterlab-server<3,>=2.22.1->notebook>=5.6.0->jupyterthemes) (3.1.0)\n",
      "Requirement already satisfied: urllib3<3,>=1.21.1 in c:\\users\\anuj belgaonkar\\appdata\\roaming\\python\\python311\\site-packages (from requests>=2.31->jupyterlab-server<3,>=2.22.1->notebook>=5.6.0->jupyterthemes) (2.0.2)\n",
      "Requirement already satisfied: argon2-cffi-bindings in c:\\users\\anuj belgaonkar\\appdata\\roaming\\python\\python311\\site-packages (from argon2-cffi->jupyter-server<3,>=2.4.0->notebook>=5.6.0->jupyterthemes) (21.2.0)\n",
      "Requirement already satisfied: webencodings in c:\\users\\anuj belgaonkar\\appdata\\roaming\\python\\python311\\site-packages (from bleach!=5.0.0->nbconvert>=6.4.4->jupyter-server<3,>=2.4.0->notebook>=5.6.0->jupyterthemes) (0.5.1)\n",
      "Requirement already satisfied: fqdn in c:\\users\\anuj belgaonkar\\appdata\\roaming\\python\\python311\\site-packages (from jsonschema[format-nongpl]>=3.2.0->jupyter-events>=0.4.0->jupyter-server<3,>=2.4.0->notebook>=5.6.0->jupyterthemes) (1.5.1)\n",
      "Requirement already satisfied: isoduration in c:\\users\\anuj belgaonkar\\appdata\\roaming\\python\\python311\\site-packages (from jsonschema[format-nongpl]>=3.2.0->jupyter-events>=0.4.0->jupyter-server<3,>=2.4.0->notebook>=5.6.0->jupyterthemes) (20.11.0)\n",
      "Requirement already satisfied: jsonpointer>1.13 in c:\\users\\anuj belgaonkar\\appdata\\roaming\\python\\python311\\site-packages (from jsonschema[format-nongpl]>=3.2.0->jupyter-events>=0.4.0->jupyter-server<3,>=2.4.0->notebook>=5.6.0->jupyterthemes) (2.3)\n",
      "Requirement already satisfied: uri-template in c:\\users\\anuj belgaonkar\\appdata\\roaming\\python\\python311\\site-packages (from jsonschema[format-nongpl]>=3.2.0->jupyter-events>=0.4.0->jupyter-server<3,>=2.4.0->notebook>=5.6.0->jupyterthemes) (1.2.0)\n",
      "Requirement already satisfied: webcolors>=1.11 in c:\\users\\anuj belgaonkar\\appdata\\roaming\\python\\python311\\site-packages (from jsonschema[format-nongpl]>=3.2.0->jupyter-events>=0.4.0->jupyter-server<3,>=2.4.0->notebook>=5.6.0->jupyterthemes) (1.13)\n",
      "Requirement already satisfied: cffi>=1.0.1 in c:\\users\\anuj belgaonkar\\appdata\\roaming\\python\\python311\\site-packages (from argon2-cffi-bindings->argon2-cffi->jupyter-server<3,>=2.4.0->notebook>=5.6.0->jupyterthemes) (1.15.1)\n",
      "Requirement already satisfied: soupsieve>1.2 in c:\\users\\anuj belgaonkar\\appdata\\roaming\\python\\python311\\site-packages (from beautifulsoup4->nbconvert>=6.4.4->jupyter-server<3,>=2.4.0->notebook>=5.6.0->jupyterthemes) (2.4)\n",
      "Requirement already satisfied: pycparser in c:\\users\\anuj belgaonkar\\appdata\\roaming\\python\\python311\\site-packages (from cffi>=1.0.1->argon2-cffi-bindings->argon2-cffi->jupyter-server<3,>=2.4.0->notebook>=5.6.0->jupyterthemes) (2.21)\n",
      "Requirement already satisfied: arrow>=0.15.0 in c:\\users\\anuj belgaonkar\\appdata\\roaming\\python\\python311\\site-packages (from isoduration->jsonschema[format-nongpl]>=3.2.0->jupyter-events>=0.4.0->jupyter-server<3,>=2.4.0->notebook>=5.6.0->jupyterthemes) (1.2.3)\n"
     ]
    },
    {
     "name": "stderr",
     "output_type": "stream",
     "text": [
      "DEPRECATION: Loading egg at c:\\program files\\python311\\lib\\site-packages\\vboxapi-1.0-py3.11.egg is deprecated. pip 24.3 will enforce this behaviour change. A possible replacement is to use pip for package installation.. Discussion can be found at https://github.com/pypa/pip/issues/12330\n"
     ]
    }
   ],
   "source": [
    "!pip install jupyterthemes"
   ]
  },
  {
   "cell_type": "code",
   "execution_count": 10,
   "id": "29007c4b-e2e4-4cdb-97a2-79cc530626f8",
   "metadata": {},
   "outputs": [
    {
     "name": "stdout",
     "output_type": "stream",
     "text": [
      "Available Themes: \n",
      "   chesterish\n",
      "   grade3\n",
      "   gruvboxd\n",
      "   gruvboxl\n",
      "   monokai\n",
      "   oceans16\n",
      "   onedork\n",
      "   solarizedd\n",
      "   solarizedl\n"
     ]
    }
   ],
   "source": [
    "!jt -l"
   ]
  },
  {
   "cell_type": "code",
   "execution_count": 2,
   "id": "06d7bed7-0a31-4342-b4e2-1ddf7e7699a7",
   "metadata": {},
   "outputs": [],
   "source": [
    "!jt -t monokai -T"
   ]
  },
  {
   "cell_type": "code",
   "execution_count": 3,
   "id": "89f1bc0e-7e6b-414f-b7db-ad07f15fae3c",
   "metadata": {},
   "outputs": [],
   "source": [
    "import cv2 as cv\n",
    "import numpy as np\n",
    "import matplotlib.pyplot as plt\n",
    "from IPython.display import Image"
   ]
  },
  {
   "cell_type": "code",
   "execution_count": 3,
   "id": "4ce1119c-a9cc-4d0c-8c9a-704e4e72e60d",
   "metadata": {},
   "outputs": [
    {
     "data": {
      "image/jpeg": "[encoded data removed]",
      "text/plain": [
       "<IPython.core.display.Image object>"
      ]
     },
     "execution_count": 3,
     "metadata": {},
     "output_type": "execute_result"
    }
   ],
   "source": [
    "Image(filename = r\"C:\\Users\\ANUJ BELGAONKAR\\Desktop\\New folder (2)\\images.jpg\")"
   ]
  },
  {
   "cell_type": "markdown",
   "id": "f487cd93-c7ba-4e63-ae4c-cb26440df0ed",
   "metadata": {},
   "source": [
    "## Reading Image"
   ]
  },
  {
   "cell_type": "markdown",
   "id": "bc67bd7a",
   "metadata": {},
   "source": [
    "Very large image Goes outside the size of screen"
   ]
  },
  {
   "cell_type": "code",
   "execution_count": 4,
   "id": "74b840d8-eeba-481a-9f50-172243524373",
   "metadata": {},
   "outputs": [
    {
     "data": {
      "text/plain": [
       "-1"
      ]
     },
     "execution_count": 4,
     "metadata": {},
     "output_type": "execute_result"
    }
   ],
   "source": [
    "img = cv.imread(r\"C:\\Users\\ANUJ BELGAONKAR\\Desktop\\New folder (2)\\GettyImages-154936560-59ffde3d482c52001aec81fd.jpg\")\n",
    "cv.imshow('catterpillar', img)\n",
    "cv.waitKey(0)\n",
    "cv.destroyAllWindows() \n",
    "cv.waitKey(1)"
   ]
  },
  {
   "cell_type": "markdown",
   "id": "d5ac54fb",
   "metadata": {},
   "source": [
    "Small size image"
   ]
  },
  {
   "cell_type": "code",
   "execution_count": 9,
   "id": "3b84a16f",
   "metadata": {},
   "outputs": [],
   "source": [
    "img2 = cv.imread(r\"C:\\Users\\ANUJ BELGAONKAR\\Desktop\\New folder (2)\\images.jpg\")"
   ]
  },
  {
   "cell_type": "code",
   "execution_count": 10,
   "id": "df03bb71",
   "metadata": {},
   "outputs": [
    {
     "data": {
      "text/plain": [
       "-1"
      ]
     },
     "execution_count": 10,
     "metadata": {},
     "output_type": "execute_result"
    }
   ],
   "source": [
    "cv.imshow('catterpillar', img2)\n",
    "cv.waitKey(0)\n",
    "cv.destroyAllWindows() \n",
    "cv.waitKey(1)"
   ]
  },
  {
   "cell_type": "code",
   "execution_count": 12,
   "id": "d502824a-ff9f-4154-afbd-54802ccdc4e7",
   "metadata": {
    "collapsed": true
   },
   "outputs": [
    {
     "data": {
      "text/plain": [
       "array([[[ 56,  86,  57],\n",
       "        [ 56,  86,  57],\n",
       "        [ 56,  86,  57],\n",
       "        ...,\n",
       "        [ 27,  94,  62],\n",
       "        [ 27,  94,  62],\n",
       "        [ 27,  94,  62]],\n",
       "\n",
       "       [[ 56,  86,  57],\n",
       "        [ 56,  86,  57],\n",
       "        [ 56,  86,  57],\n",
       "        ...,\n",
       "        [ 27,  94,  62],\n",
       "        [ 27,  94,  62],\n",
       "        [ 27,  94,  62]],\n",
       "\n",
       "       [[ 56,  86,  57],\n",
       "        [ 56,  86,  57],\n",
       "        [ 56,  86,  57],\n",
       "        ...,\n",
       "        [ 27,  94,  62],\n",
       "        [ 27,  94,  62],\n",
       "        [ 27,  94,  62]],\n",
       "\n",
       "       ...,\n",
       "\n",
       "       [[163, 135, 134],\n",
       "        [163, 135, 134],\n",
       "        [164, 136, 135],\n",
       "        ...,\n",
       "        [145, 122, 120],\n",
       "        [145, 122, 120],\n",
       "        [145, 122, 120]],\n",
       "\n",
       "       [[163, 135, 134],\n",
       "        [163, 135, 134],\n",
       "        [164, 136, 135],\n",
       "        ...,\n",
       "        [143, 120, 118],\n",
       "        [143, 120, 118],\n",
       "        [143, 120, 118]],\n",
       "\n",
       "       [[163, 135, 134],\n",
       "        [163, 135, 134],\n",
       "        [164, 136, 135],\n",
       "        ...,\n",
       "        [143, 120, 118],\n",
       "        [143, 120, 118],\n",
       "        [143, 120, 118]]], dtype=uint8)"
      ]
     },
     "execution_count": 12,
     "metadata": {},
     "output_type": "execute_result"
    }
   ],
   "source": [
    "img ## image represented as an array "
   ]
  },
  {
   "cell_type": "markdown",
   "id": "dcd2112e",
   "metadata": {},
   "source": [
    "### Reading video"
   ]
  },
  {
   "cell_type": "markdown",
   "id": "aba90010",
   "metadata": {},
   "source": [
    "Reading locally stored"
   ]
  },
  {
   "cell_type": "code",
   "execution_count": 16,
   "id": "572636ea",
   "metadata": {},
   "outputs": [],
   "source": [
    "## we read the video frame by frame\n",
    "capture = cv.VideoCapture(r\"C:\\Users\\ANUJ BELGAONKAR\\Videos\\7fj0y16ed83c1.mp4\") ## reading from file\n",
    "while True:\n",
    "    isTrue, frame = capture.read() ## reads video frame by frame\n",
    "    if isTrue:\n",
    "        cv.imshow('Video', frame)\n",
    "        if(cv.waitKey(20) & 0xFF == ord('d')):\n",
    "            break\n",
    "    else:\n",
    "        break\n",
    "capture.release()\n",
    "cv.destroyAllWindows() "
   ]
  },
  {
   "cell_type": "code",
   "execution_count": null,
   "id": "b32f8998",
   "metadata": {},
   "outputs": [],
   "source": [
    "### -215 assertion fail error = opencv could nto find any media file "
   ]
  },
  {
   "cell_type": "markdown",
   "id": "cd3d1a12",
   "metadata": {},
   "source": [
    "Reading from webcam"
   ]
  },
  {
   "cell_type": "code",
   "execution_count": 7,
   "id": "70b36e44",
   "metadata": {},
   "outputs": [],
   "source": [
    "# Open webcam\n",
    "capture = cv.VideoCapture(0)\n",
    "# Loop to read the video frame by frame\n",
    "while True:\n",
    "    # Read the frame\n",
    "    isTrue, frame = capture.read()\n",
    "    try:\n",
    "    # Display the frame\n",
    "        cv.imshow('Video', frame)\n",
    "        # Check if the 'd' key is pressed\n",
    "        if(cv.waitKey(1) & 0xFF == ord('d')):\n",
    "            break\n",
    "    except:\n",
    "        print(\"Error occured\")\n",
    "        break\n",
    "\n",
    "# Release the video capture device\n",
    "capture.release()\n",
    "# Close all OpenCV windows\n",
    "cv.destroyAllWindows()\n"
   ]
  },
  {
   "cell_type": "markdown",
   "id": "2fd2b8d7",
   "metadata": {},
   "source": [
    "### Preprocess image"
   ]
  },
  {
   "cell_type": "code",
   "execution_count": 20,
   "id": "48e5e8d9",
   "metadata": {},
   "outputs": [],
   "source": [
    "def rescaleframe(frame,scale): ## for images, video and live video\n",
    "    width = int(frame.shape[1] * scale)\n",
    "    height = int(frame.shape[0] * scale)\n",
    "    dimensions = (width,height)\n",
    "    \n",
    "    return cv.resize(frame,dimensions, interpolation = cv.INTER_AREA)"
   ]
  },
  {
   "cell_type": "markdown",
   "id": "3452bb4b",
   "metadata": {},
   "source": [
    "Rescaling Videos"
   ]
  },
  {
   "cell_type": "code",
   "execution_count": 22,
   "id": "3a2c4e67",
   "metadata": {},
   "outputs": [],
   "source": [
    "## we read the video frame by frame\n",
    "capture = cv.VideoCapture(r\"C:\\Users\\ANUJ BELGAONKAR\\Videos\\7fj0y16ed83c1.mp4\") ## reading from file\n",
    "while True:\n",
    "    isTrue, frame = capture.read() ## reads video frame by frame\n",
    "    if isTrue:\n",
    "        frame_resized = rescaleframe(frame,scale = 1.5)\n",
    "        cv.imshow('Video', frame)\n",
    "        cv.imshow('Resized Video', frame_resized)\n",
    "        if(cv.waitKey(20) & 0xFF == ord('d')):\n",
    "            break\n",
    "    else:\n",
    "        break\n",
    "capture.release()\n",
    "cv.destroyAllWindows() "
   ]
  },
  {
   "cell_type": "markdown",
   "id": "a8f35464",
   "metadata": {},
   "source": [
    "Rescaling Images"
   ]
  },
  {
   "cell_type": "code",
   "execution_count": 25,
   "id": "856b656b",
   "metadata": {},
   "outputs": [
    {
     "data": {
      "text/plain": [
       "-1"
      ]
     },
     "execution_count": 25,
     "metadata": {},
     "output_type": "execute_result"
    }
   ],
   "source": [
    "img = cv.imread(r\"C:\\Users\\ANUJ BELGAONKAR\\Desktop\\New folder (2)\\GettyImages-154936560-59ffde3d482c52001aec81fd.jpg\")\n",
    "resized = rescaleframe(img, scale = 0.5)\n",
    "cv.imshow('catterpillar', img)\n",
    "cv.imshow('catterpillar_resized', resized)\n",
    "cv.waitKey(0)\n",
    "cv.destroyAllWindows() \n",
    "cv.waitKey(1)"
   ]
  },
  {
   "cell_type": "markdown",
   "id": "a6597cc2",
   "metadata": {},
   "source": [
    "Rescaling live video?"
   ]
  },
  {
   "cell_type": "code",
   "execution_count": 26,
   "id": "b44881cd",
   "metadata": {},
   "outputs": [],
   "source": [
    "# Open webcam\n",
    "capture = cv.VideoCapture(0)\n",
    "# Loop to read the video frame by frame\n",
    "while True:\n",
    "    # Read the frame\n",
    "    isTrue, frame = capture.read()\n",
    "    try:\n",
    "    # Display the frame\n",
    "        frame_resized = rescaleframe(frame,scale = 1.5)\n",
    "        cv.imshow('Video', frame)\n",
    "        cv.imshow('Video_resized', frame_resized)\n",
    "        # Check if the 'd' key is pressed\n",
    "        if(cv.waitKey(1) & 0xFF == ord('d')):\n",
    "            break\n",
    "    except:\n",
    "        print(\"Error occured\")\n",
    "        break\n",
    "\n",
    "# Release the video capture device\n",
    "capture.release()\n",
    "# Close all OpenCV windows\n",
    "cv.destroyAllWindows()\n"
   ]
  },
  {
   "cell_type": "markdown",
   "id": "e402649a",
   "metadata": {},
   "source": [
    "Rescaling live video plus otehr preprocessing"
   ]
  },
  {
   "cell_type": "code",
   "execution_count": 17,
   "id": "69355b2c",
   "metadata": {},
   "outputs": [],
   "source": [
    "def LiveVedioEdit(capture,width,height,brightness):\n",
    "    capture.set(cv.CAP_PROP_FRAME_WIDTH, width)\n",
    "    capture.set(cv.CAP_PROP_FRAME_HEIGHT, height)\n",
    "    capture.set(cv.CAP_PROP_BRIGHTNESS, brightness)\n",
    "# Open webcam\n",
    "#capture = cv.VideoCapture(0)\n",
    "capture1 = cv.VideoCapture(0)\n",
    "LiveVedioEdit(capture1,width = 1250, height = 720, brightness = 100)\n",
    "# Loop to read the video frame by frame\n",
    "while True:\n",
    "    # Read the frame\n",
    "    #isTrue, frame = capture.read()\n",
    "    isTrue, frame_edited = capture1.read()\n",
    "    try:\n",
    "    # Display the frame\n",
    "        #cv.imshow('Video', frame)\n",
    "        cv.imshow('Video_edited', frame_edited)\n",
    "        # Check if the 'd' key is pressed\n",
    "        if(cv.waitKey(20) & 0xFF == ord('d')):\n",
    "            break\n",
    "    except:\n",
    "        print(\"Error occured\")\n",
    "        break\n",
    "\n",
    "# Release the video capture device\n",
    "#capture.release()\n",
    "capture1.release()\n",
    "# Close all OpenCV windows\n",
    "cv.destroyAllWindows()\n"
   ]
  },
  {
   "cell_type": "markdown",
   "id": "81d00db1",
   "metadata": {},
   "source": [
    "Drawing and writting on images"
   ]
  },
  {
   "cell_type": "code",
   "execution_count": 3,
   "id": "3b81ef74",
   "metadata": {},
   "outputs": [
    {
     "data": {
      "text/plain": [
       "-1"
      ]
     },
     "execution_count": 3,
     "metadata": {},
     "output_type": "execute_result"
    }
   ],
   "source": [
    "blank = np.zeros((400,400,3), dtype = 'uint8')\n",
    "#cv.imshow('blank',blank)\n",
    "blank[:] = 125,255,40\n",
    "cv.imshow('blank',blank)\n",
    "cv.waitKey(0)\n",
    "cv.destroyAllWindows()\n",
    "cv.waitKey(1)"
   ]
  },
  {
   "cell_type": "code",
   "execution_count": 7,
   "id": "0ed54b1e",
   "metadata": {},
   "outputs": [
    {
     "data": {
      "text/plain": [
       "-1"
      ]
     },
     "execution_count": 7,
     "metadata": {},
     "output_type": "execute_result"
    }
   ],
   "source": [
    "blank = np.zeros((400,400,3), dtype = 'uint8')\n",
    "blank[:] = 125,255,40\n",
    "cv.rectangle(blank,(100,100),(200,200), thickness = 1, color = (0,25,40))\n",
    "cv.imshow('blank',blank)\n",
    "cv.waitKey(0)\n",
    "cv.destroyAllWindows()\n",
    "cv.waitKey(1)"
   ]
  },
  {
   "cell_type": "code",
   "execution_count": 8,
   "id": "3a0f54ee",
   "metadata": {},
   "outputs": [
    {
     "data": {
      "text/plain": [
       "-1"
      ]
     },
     "execution_count": 8,
     "metadata": {},
     "output_type": "execute_result"
    }
   ],
   "source": [
    "blank = np.zeros((400,400,3), dtype = 'uint8')\n",
    "blank[:] = 125,255,40\n",
    "cv.rectangle(blank,(100,100),(200,200), thickness = cv.FILLED, color = (0,25,40))\n",
    "cv.imshow('blank',blank)\n",
    "cv.waitKey(0)\n",
    "cv.destroyAllWindows()\n",
    "cv.waitKey(1)"
   ]
  },
  {
   "cell_type": "code",
   "execution_count": 9,
   "id": "34f442b9",
   "metadata": {},
   "outputs": [
    {
     "data": {
      "text/plain": [
       "-1"
      ]
     },
     "execution_count": 9,
     "metadata": {},
     "output_type": "execute_result"
    }
   ],
   "source": [
    "blank = np.zeros((400,400,3), dtype = 'uint8')\n",
    "blank[:] = 125,255,40\n",
    "cv.rectangle(blank,(100,100),(200,200), thickness = -1, color = (0,25,40))\n",
    "cv.imshow('blank',blank)\n",
    "cv.waitKey(0)\n",
    "cv.destroyAllWindows()\n",
    "cv.waitKey(1)"
   ]
  },
  {
   "cell_type": "code",
   "execution_count": 18,
   "id": "391656d8",
   "metadata": {},
   "outputs": [
    {
     "data": {
      "text/plain": [
       "-1"
      ]
     },
     "execution_count": 18,
     "metadata": {},
     "output_type": "execute_result"
    }
   ],
   "source": [
    "cv.circle( blank, (blank.shape[1]//2, blank.shape[0]//2), 50, (0,100,255), thickness = -1)\n",
    "cv.putText(blank, 'Hello i am under the water', (255,255), fontFace = cv.FONT_HERSHEY_SIMPLEX, fontScale = 0.25, color = (255,0,0), thickness = 2)\n",
    "cv.imshow('circle', blank)\n",
    "cv.waitKey(0)\n",
    "cv.destroyAllWindows()"
   ]
  },
  {
   "cell_type": "markdown",
   "id": "bdce676b",
   "metadata": {},
   "source": [
    "### Important Functionality"
   ]
  },
  {
   "cell_type": "markdown",
   "id": "374a53ec",
   "metadata": {},
   "source": [
    "Convert to grayscale"
   ]
  },
  {
   "cell_type": "code",
   "execution_count": 16,
   "id": "073fc955",
   "metadata": {},
   "outputs": [],
   "source": [
    "img = cv.imread(r\"C:\\Users\\ANUJ BELGAONKAR\\Desktop\\New folder (2)\\images.jpg\")\n",
    "cv.imshow('Color',img)\n",
    "gray = cv.cvtColor(img, cv.COLOR_RGB2GRAY)\n",
    "cv.imshow('gray', gray)\n",
    "cv.waitKey(0)\n",
    "cv.destroyAllWindows()"
   ]
  },
  {
   "cell_type": "markdown",
   "id": "55e6960c",
   "metadata": {},
   "source": [
    "Blur image"
   ]
  },
  {
   "cell_type": "code",
   "execution_count": 4,
   "id": "7a341719",
   "metadata": {},
   "outputs": [],
   "source": [
    "img = cv.imread(r\"C:\\Users\\ANUJ BELGAONKAR\\Desktop\\New folder (2)\\images.jpg\")\n",
    "cv.imshow('Color',img)\n",
    "blur = cv.GaussianBlur(img, (3,3), cv.BORDER_DEFAULT)\n",
    "cv.imshow('Blur', blur)\n",
    "cv.waitKey(0)\n",
    "cv.destroyAllWindows()"
   ]
  },
  {
   "cell_type": "markdown",
   "id": "bad8b195",
   "metadata": {},
   "source": [
    "Edge CASDADE"
   ]
  },
  {
   "cell_type": "code",
   "execution_count": 9,
   "id": "9c3ad39e",
   "metadata": {},
   "outputs": [],
   "source": [
    "img = cv.imread(r\"C:\\Users\\ANUJ BELGAONKAR\\Desktop\\New folder (2)\\images.jpg\")\n",
    "cv.imshow('Color',img)\n",
    "canny = cv.Canny(img, 125, 175)\n",
    "cv.imshow('Canny', canny)\n",
    "blur = cv.GaussianBlur(img, (5,5), cv.BORDER_DEFAULT)\n",
    "canny1 = cv.Canny(blur, 125, 175)\n",
    "cv.imshow('CannyBlured', canny1)\n",
    "cv.waitKey(0)\n",
    "cv.destroyAllWindows()"
   ]
  },
  {
   "cell_type": "markdown",
   "id": "eb2d0d0a",
   "metadata": {},
   "source": [
    "Image Dilation and erosion"
   ]
  },
  {
   "cell_type": "code",
   "execution_count": 13,
   "id": "0e4679f0",
   "metadata": {},
   "outputs": [],
   "source": [
    "img = cv.imread(r\"C:\\Users\\ANUJ BELGAONKAR\\Desktop\\New folder (2)\\images.jpg\")\n",
    "cv.imshow('Color',img)\n",
    "canny = cv.Canny(img, 125, 175)\n",
    "cv.imshow('Canny', canny)\n",
    "dilate = cv.dilate(canny, (3,3), iterations = 1)\n",
    "cv.imshow('Dilated', dilate)\n",
    "eroded = cv.erode(dilate, (15,15), iterations = 3)\n",
    "cv.imshow('Eroded', eroded)\n",
    "cv.waitKey(0)\n",
    "cv.destroyAllWindows()"
   ]
  },
  {
   "cell_type": "code",
   "execution_count": null,
   "id": "c0950e9e",
   "metadata": {},
   "outputs": [],
   "source": []
  }
 ],
 "metadata": {
  "kernelspec": {
   "display_name": "Python 3 (ipykernel)",
   "language": "python",
   "name": "python3"
  },
  "language_info": {
   "codemirror_mode": {
    "name": "ipython",
    "version": 3
   },
   "file_extension": ".py",
   "mimetype": "text/x-python",
   "name": "python",
   "nbconvert_exporter": "python",
   "pygments_lexer": "ipython3",
   "version": "3.11.3"
  }
 },
 "nbformat": 4,
 "nbformat_minor": 5
}
