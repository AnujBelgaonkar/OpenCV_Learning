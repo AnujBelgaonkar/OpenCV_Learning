{
 "cells": [
  {
   "cell_type": "code",
   "execution_count": 1,
   "id": "89f1bc0e-7e6b-414f-b7db-ad07f15fae3c",
   "metadata": {},
   "outputs": [],
   "source": [
    "import cv2 as cv\n",
    "import numpy as np\n",
    "import matplotlib.pyplot as plt"
   ]
  },
  {
   "cell_type": "markdown",
   "id": "f487cd93-c7ba-4e63-ae4c-cb26440df0ed",
   "metadata": {},
   "source": [
    "## Reading Image"
   ]
  },
  {
   "cell_type": "markdown",
   "id": "bc67bd7a",
   "metadata": {},
   "source": [
    "Very large image Goes outside the size of screen"
   ]
  },
  {
   "cell_type": "code",
   "execution_count": 4,
   "id": "74b840d8-eeba-481a-9f50-172243524373",
   "metadata": {},
   "outputs": [
    {
     "data": {
      "text/plain": [
       "-1"
      ]
     },
     "execution_count": 4,
     "metadata": {},
     "output_type": "execute_result"
    }
   ],
   "source": [
    "img = cv.imread(r\"C:\\Users\\ANUJ BELGAONKAR\\Desktop\\New folder (2)\\GettyImages-154936560-59ffde3d482c52001aec81fd.jpg\")\n",
    "cv.imshow('catterpillar', img)\n",
    "cv.waitKey(0)\n",
    "cv.destroyAllWindows() \n",
    "cv.waitKey(1)"
   ]
  },
  {
   "cell_type": "markdown",
   "id": "d5ac54fb",
   "metadata": {},
   "source": [
    "Small size image"
   ]
  },
  {
   "cell_type": "code",
   "execution_count": 9,
   "id": "3b84a16f",
   "metadata": {},
   "outputs": [],
   "source": [
    "img2 = cv.imread(r\"C:\\Users\\ANUJ BELGAONKAR\\Desktop\\New folder (2)\\images.jpg\")"
   ]
  },
  {
   "cell_type": "code",
   "execution_count": 10,
   "id": "df03bb71",
   "metadata": {},
   "outputs": [
    {
     "data": {
      "text/plain": [
       "-1"
      ]
     },
     "execution_count": 10,
     "metadata": {},
     "output_type": "execute_result"
    }
   ],
   "source": [
    "cv.imshow('catterpillar', img2)\n",
    "cv.waitKey(0)\n",
    "cv.destroyAllWindows() \n",
    "cv.waitKey(1)"
   ]
  },
  {
   "cell_type": "code",
   "execution_count": 12,
   "id": "d502824a-ff9f-4154-afbd-54802ccdc4e7",
   "metadata": {
    "collapsed": true
   },
   "outputs": [
    {
     "data": {
      "text/plain": [
       "array([[[ 56,  86,  57],\n",
       "        [ 56,  86,  57],\n",
       "        [ 56,  86,  57],\n",
       "        ...,\n",
       "        [ 27,  94,  62],\n",
       "        [ 27,  94,  62],\n",
       "        [ 27,  94,  62]],\n",
       "\n",
       "       [[ 56,  86,  57],\n",
       "        [ 56,  86,  57],\n",
       "        [ 56,  86,  57],\n",
       "        ...,\n",
       "        [ 27,  94,  62],\n",
       "        [ 27,  94,  62],\n",
       "        [ 27,  94,  62]],\n",
       "\n",
       "       [[ 56,  86,  57],\n",
       "        [ 56,  86,  57],\n",
       "        [ 56,  86,  57],\n",
       "        ...,\n",
       "        [ 27,  94,  62],\n",
       "        [ 27,  94,  62],\n",
       "        [ 27,  94,  62]],\n",
       "\n",
       "       ...,\n",
       "\n",
       "       [[163, 135, 134],\n",
       "        [163, 135, 134],\n",
       "        [164, 136, 135],\n",
       "        ...,\n",
       "        [145, 122, 120],\n",
       "        [145, 122, 120],\n",
       "        [145, 122, 120]],\n",
       "\n",
       "       [[163, 135, 134],\n",
       "        [163, 135, 134],\n",
       "        [164, 136, 135],\n",
       "        ...,\n",
       "        [143, 120, 118],\n",
       "        [143, 120, 118],\n",
       "        [143, 120, 118]],\n",
       "\n",
       "       [[163, 135, 134],\n",
       "        [163, 135, 134],\n",
       "        [164, 136, 135],\n",
       "        ...,\n",
       "        [143, 120, 118],\n",
       "        [143, 120, 118],\n",
       "        [143, 120, 118]]], dtype=uint8)"
      ]
     },
     "execution_count": 12,
     "metadata": {},
     "output_type": "execute_result"
    }
   ],
   "source": [
    "img ## image represented as an array "
   ]
  },
  {
   "cell_type": "markdown",
   "id": "dcd2112e",
   "metadata": {},
   "source": [
    "### Reading video"
   ]
  },
  {
   "cell_type": "markdown",
   "id": "aba90010",
   "metadata": {},
   "source": [
    "Reading locally stored"
   ]
  },
  {
   "cell_type": "code",
   "execution_count": 3,
   "id": "572636ea",
   "metadata": {},
   "outputs": [],
   "source": [
    "## we read the video frame by frame\n",
    "capture = cv.VideoCapture(r\"C:\\Users\\ANUJ BELGAONKAR\\Videos\\7fj0y16ed83c1.mp4\") ## reading from file\n",
    "while True:\n",
    "    isTrue, frame = capture.read() ## reads video frame by frame\n",
    "    if isTrue:\n",
    "        cv.imshow('Video', frame)\n",
    "        if(cv.waitKey(20) & 0xFF == ord('d')):\n",
    "            break\n",
    "    else:\n",
    "        break\n",
    "capture.release()\n",
    "cv.destroyAllWindows() "
   ]
  },
  {
   "cell_type": "code",
   "execution_count": null,
   "id": "b32f8998",
   "metadata": {},
   "outputs": [],
   "source": [
    "### -215 assertion fail error = opencv could nto find any media file "
   ]
  },
  {
   "cell_type": "markdown",
   "id": "cd3d1a12",
   "metadata": {},
   "source": [
    "Reading from webcam"
   ]
  },
  {
   "cell_type": "code",
   "execution_count": 2,
   "id": "70b36e44",
   "metadata": {},
   "outputs": [],
   "source": [
    "# Open webcam\n",
    "capture = cv.VideoCapture(0)\n",
    "# Loop to read the video frame by frame\n",
    "while True:\n",
    "    # Read the frame\n",
    "    isTrue, frame = capture.read()\n",
    "    try:\n",
    "    # Display the frame\n",
    "        cv.imshow('Video', frame)\n",
    "        # Check if the 'd' key is pressed\n",
    "        if(cv.waitKey(1) & 0xFF == ord('d')):\n",
    "            break\n",
    "    except:\n",
    "        print(\"Error occured\")\n",
    "        break\n",
    "\n",
    "# Release the video capture device\n",
    "capture.release()\n",
    "# Close all OpenCV windows\n",
    "cv.destroyAllWindows()\n"
   ]
  },
  {
   "cell_type": "markdown",
   "id": "2fd2b8d7",
   "metadata": {},
   "source": [
    "### Preprocess image"
   ]
  },
  {
   "cell_type": "code",
   "execution_count": 3,
   "id": "48e5e8d9",
   "metadata": {},
   "outputs": [],
   "source": [
    "def rescaleframe(frame,scale): ## for images, video and live video\n",
    "    width = int(frame.shape[1] * scale)\n",
    "    height = int(frame.shape[0] * scale)\n",
    "    dimensions = (width,height)\n",
    "    \n",
    "    return cv.resize(frame,dimensions, interpolation = cv.INTER_AREA)"
   ]
  },
  {
   "cell_type": "markdown",
   "id": "3452bb4b",
   "metadata": {},
   "source": [
    "Rescaling Videos"
   ]
  },
  {
   "cell_type": "code",
   "execution_count": 4,
   "id": "3a2c4e67",
   "metadata": {},
   "outputs": [],
   "source": [
    "## we read the video frame by frame\n",
    "capture = cv.VideoCapture(r\"C:\\Users\\ANUJ BELGAONKAR\\Videos\\7fj0y16ed83c1.mp4\") ## reading from file\n",
    "while True:\n",
    "    isTrue, frame = capture.read() ## reads video frame by frame\n",
    "    if isTrue:\n",
    "        frame_resized = rescaleframe(frame,scale = 2)\n",
    "        cv.imshow('Video', frame)\n",
    "        cv.imshow('Resized Video', frame_resized)\n",
    "        if(cv.waitKey(20) & 0xFF == ord('d')):\n",
    "            break\n",
    "    else:\n",
    "        break\n",
    "capture.release()\n",
    "cv.destroyAllWindows() "
   ]
  },
  {
   "cell_type": "markdown",
   "id": "a8f35464",
   "metadata": {},
   "source": [
    "Rescaling Images"
   ]
  },
  {
   "cell_type": "code",
   "execution_count": 5,
   "id": "856b656b",
   "metadata": {},
   "outputs": [
    {
     "data": {
      "text/plain": [
       "-1"
      ]
     },
     "execution_count": 5,
     "metadata": {},
     "output_type": "execute_result"
    }
   ],
   "source": [
    "img = cv.imread(r\"C:\\Users\\ANUJ BELGAONKAR\\Desktop\\New folder (2)\\GettyImages-154936560-59ffde3d482c52001aec81fd.jpg\")\n",
    "resized = rescaleframe(img, scale = 0.5)\n",
    "cv.imshow('catterpillar', img)\n",
    "cv.imshow('catterpillar_resized', resized)\n",
    "cv.waitKey(0)\n",
    "cv.destroyAllWindows() \n",
    "cv.waitKey(1)"
   ]
  },
  {
   "cell_type": "markdown",
   "id": "a6597cc2",
   "metadata": {},
   "source": [
    "Rescaling live video?"
   ]
  },
  {
   "cell_type": "code",
   "execution_count": 6,
   "id": "b44881cd",
   "metadata": {},
   "outputs": [],
   "source": [
    "# Open webcam\n",
    "capture = cv.VideoCapture(0)\n",
    "# Loop to read the video frame by frame\n",
    "while True:\n",
    "    # Read the frame\n",
    "    isTrue, frame = capture.read()\n",
    "    try:\n",
    "    # Display the frame\n",
    "        frame_resized = rescaleframe(frame,scale = 1.5)\n",
    "        cv.imshow('Video', frame)\n",
    "        cv.imshow('Video_resized', frame_resized)\n",
    "        # Check if the 'd' key is pressed\n",
    "        if(cv.waitKey(20) & 0xFF == ord('d')):\n",
    "            break\n",
    "    except:\n",
    "        print(\"Error occured\")\n",
    "        break\n",
    "\n",
    "# Release the video capture device\n",
    "capture.release()\n",
    "# Close all OpenCV windows\n",
    "cv.destroyAllWindows()\n"
   ]
  },
  {
   "cell_type": "markdown",
   "id": "e402649a",
   "metadata": {},
   "source": [
    "Rescaling live video plus otehr preprocessing"
   ]
  },
  {
   "cell_type": "code",
   "execution_count": 7,
   "id": "69355b2c",
   "metadata": {},
   "outputs": [],
   "source": [
    "def LiveVedioEdit(capture,width,height,brightness):\n",
    "    capture.set(cv.CAP_PROP_FRAME_WIDTH, width) # capture.set(3,width)\n",
    "    capture.set(cv.CAP_PROP_FRAME_HEIGHT, height) # capture.set(4,height)\n",
    "    capture.set(cv.CAP_PROP_BRIGHTNESS, brightness) # capture.set(10,brightness)\n",
    "# Open webcam\n",
    "#capture = cv.VideoCapture(0)\n",
    "capture1 = cv.VideoCapture(0)\n",
    "LiveVedioEdit(capture1,width = 1250, height = 720, brightness = 100)\n",
    "# Loop to read the video frame by frame\n",
    "while True:\n",
    "    # Read the frame\n",
    "    #isTrue, frame = capture.read()\n",
    "    isTrue, frame_edited = capture1.read()\n",
    "    try:\n",
    "    # Display the frame\n",
    "        #cv.imshow('Video', frame)\n",
    "        cv.imshow('Video_edited', frame_edited)\n",
    "        # Check if the 'd' key is pressed\n",
    "        if(cv.waitKey(20) & 0xFF == ord('d')):\n",
    "            break\n",
    "    except:\n",
    "        print(\"Error occured\")\n",
    "        break\n",
    "\n",
    "# Release the video capture device\n",
    "#capture.release()\n",
    "capture1.release()\n",
    "# Close all OpenCV windows\n",
    "cv.destroyAllWindows()\n"
   ]
  },
  {
   "cell_type": "markdown",
   "id": "70421c99",
   "metadata": {},
   "source": [
    "Cropping an Image"
   ]
  },
  {
   "cell_type": "code",
   "execution_count": 2,
   "id": "d4322ed4",
   "metadata": {},
   "outputs": [],
   "source": [
    "img = cv.imread(r\"C:\\Users\\ANUJ BELGAONKAR\\Desktop\\New folder (2)\\GettyImages-154936560-59ffde3d482c52001aec81fd.jpg\")\n",
    "img_cropped = img[0:200,250:1000]\n",
    "cv.imshow('Cropped',img_cropped)\n",
    "cv.waitKey(0)\n",
    "cv.destroyAllWindows()"
   ]
  },
  {
   "cell_type": "markdown",
   "id": "81d00db1",
   "metadata": {},
   "source": [
    "Drawing and writting on images"
   ]
  },
  {
   "cell_type": "code",
   "execution_count": 6,
   "id": "3b81ef74",
   "metadata": {},
   "outputs": [
    {
     "data": {
      "text/plain": [
       "-1"
      ]
     },
     "execution_count": 6,
     "metadata": {},
     "output_type": "execute_result"
    }
   ],
   "source": [
    "blank = np.zeros((400,400,3), dtype = 'uint8')\n",
    "#cv.imshow('blank',blank)\n",
    "blank[50:400,:] = 125,255,40\n",
    "cv.imshow('blank',blank)\n",
    "cv.waitKey(0)\n",
    "cv.destroyAllWindows()\n",
    "cv.waitKey(1)"
   ]
  },
  {
   "cell_type": "code",
   "execution_count": 7,
   "id": "0ed54b1e",
   "metadata": {},
   "outputs": [
    {
     "data": {
      "text/plain": [
       "-1"
      ]
     },
     "execution_count": 7,
     "metadata": {},
     "output_type": "execute_result"
    }
   ],
   "source": [
    "blank = np.zeros((400,400,3), dtype = 'uint8')\n",
    "blank[:] = 125,255,40\n",
    "cv.rectangle(blank,(100,100),(200,200), thickness = 1, color = (0,25,40))\n",
    "cv.imshow('blank',blank)\n",
    "cv.waitKey(0)\n",
    "cv.destroyAllWindows()\n",
    "cv.waitKey(1)"
   ]
  },
  {
   "cell_type": "code",
   "execution_count": 8,
   "id": "3a0f54ee",
   "metadata": {},
   "outputs": [
    {
     "data": {
      "text/plain": [
       "-1"
      ]
     },
     "execution_count": 8,
     "metadata": {},
     "output_type": "execute_result"
    }
   ],
   "source": [
    "blank = np.zeros((400,400,3), dtype = 'uint8')\n",
    "blank[:] = 125,255,40\n",
    "cv.rectangle(blank,(100,100),(200,200), thickness = cv.FILLED, color = (0,25,40))\n",
    "cv.imshow('blank',blank)\n",
    "cv.waitKey(0)\n",
    "cv.destroyAllWindows()\n",
    "cv.waitKey(1)"
   ]
  },
  {
   "cell_type": "code",
   "execution_count": 34,
   "id": "34f442b9",
   "metadata": {},
   "outputs": [
    {
     "data": {
      "text/plain": [
       "-1"
      ]
     },
     "execution_count": 34,
     "metadata": {},
     "output_type": "execute_result"
    }
   ],
   "source": [
    "blank = np.zeros((400,400,3), dtype = 'uint8')\n",
    "blank[:] = 125,255,40\n",
    "cv.rectangle(blank,(100,100),(200,200), thickness = -1, color = (0,25,40))\n",
    "cv.imshow('blank',blank)\n",
    "cv.waitKey(0)\n",
    "cv.destroyAllWindows()\n",
    "cv.waitKey(1)"
   ]
  },
  {
   "cell_type": "code",
   "execution_count": 28,
   "id": "a2c76dc7",
   "metadata": {},
   "outputs": [
    {
     "name": "stdout",
     "output_type": "stream",
     "text": [
      "wvwv\n"
     ]
    }
   ],
   "source": [
    "try:\n",
    "    img = img = cv.imread(r\"C:\\Users\\ANUJ BELGAONKAR\\Desktop\\New folder (2)\\GettyImages-154936560-59ffde3d482c52001aec81fd.jpg\")\n",
    "    cv.line(img,(0,0), (600,600),(125,255,40),thickness = -1) \n",
    "    cv.imshow('img',img)\n",
    "    cv.waitKey(0)\n",
    "    cv.destroyAllWindows()\n",
    "    cv.waitKey(1)\n",
    "except:\n",
    "    print(\"wvwv\")\n",
    "    cv.destroyAllWindows()\n",
    "    cv.waitKey(1)\n",
    "try:\n",
    "    img = img = cv.imread(r\"C:\\Users\\ANUJ BELGAONKAR\\Desktop\\New folder (2)\\GettyImages-154936560-59ffde3d482c52001aec81fd.jpg\")\n",
    "    cv.line(img,(0,0), (600,600),(125,255,40),thickness = 1) \n",
    "    cv.imshow('img',img)\n",
    "    cv.waitKey(0)\n",
    "    cv.destroyAllWindows()\n",
    "    cv.waitKey(1)\n",
    "except:\n",
    "    print(\"wvwv\")\n",
    "    cv.destroyAllWindows()\n",
    "    cv.waitKey(1)\n",
    "try:\n",
    "    img = img = cv.imread(r\"C:\\Users\\ANUJ BELGAONKAR\\Desktop\\New folder (2)\\GettyImages-154936560-59ffde3d482c52001aec81fd.jpg\")\n",
    "    cv.line(img,(0,0), (img.shape[1],img.shape[0]),(125,255,40),thickness = 1) \n",
    "    blur = cv.GaussianBlur(img, (3,3),cv.BORDER_DEFAULT)\n",
    "    cv.imshow('img_diagonal line',blur)\n",
    "    cv.waitKey(0)\n",
    "    cv.destroyAllWindows()\n",
    "    cv.waitKey(1)\n",
    "except:\n",
    "    print(\"wvwv\")\n",
    "    cv.destroyAllWindows()\n",
    "    cv.waitKey(1)\n",
    "# Not possible to give line a thickness of -1 min thickness 1"
   ]
  },
  {
   "cell_type": "code",
   "execution_count": 35,
   "id": "391656d8",
   "metadata": {},
   "outputs": [],
   "source": [
    "cv.circle( blank, (blank.shape[1]//2, blank.shape[0]//2), 50, (0,100,255), thickness = 1)\n",
    "cv.putText(blank, 'Hello i am under the water', (255,255), fontFace = cv.FONT_HERSHEY_SIMPLEX, fontScale = 0.75, color = (255,0,0), thickness = 2)\n",
    "cv.imshow('circle', blank)\n",
    "cv.waitKey(0)\n",
    "cv.destroyAllWindows()"
   ]
  },
  {
   "cell_type": "markdown",
   "id": "bdce676b",
   "metadata": {},
   "source": [
    "### Important Functionality"
   ]
  },
  {
   "cell_type": "markdown",
   "id": "374a53ec",
   "metadata": {},
   "source": [
    "Convert to grayscale"
   ]
  },
  {
   "cell_type": "code",
   "execution_count": 2,
   "id": "073fc955",
   "metadata": {},
   "outputs": [],
   "source": [
    "img = cv.imread(r\"C:\\Users\\ANUJ BELGAONKAR\\Desktop\\New folder (2)\\images.jpg\")\n",
    "cv.imshow('Color',img)\n",
    "gray = cv.cvtColor(img, cv.COLOR_RGB2GRAY)\n",
    "cv.imshow('gray', gray)\n",
    "cv.waitKey(0)\n",
    "cv.destroyAllWindows()"
   ]
  },
  {
   "cell_type": "markdown",
   "id": "55e6960c",
   "metadata": {},
   "source": [
    "Blur image"
   ]
  },
  {
   "cell_type": "code",
   "execution_count": 2,
   "id": "7a341719",
   "metadata": {},
   "outputs": [],
   "source": [
    "img = cv.imread(r\"C:\\Users\\ANUJ BELGAONKAR\\Desktop\\New folder (2)\\images.jpg\")\n",
    "cv.imshow('Color',img)\n",
    "blur = cv.GaussianBlur(img, (3,3), cv.BORDER_DEFAULT)\n",
    "cv.imshow('Blur', blur)\n",
    "cv.waitKey(0)\n",
    "cv.destroyAllWindows()"
   ]
  },
  {
   "cell_type": "markdown",
   "id": "bad8b195",
   "metadata": {},
   "source": [
    "Edge CASDADE"
   ]
  },
  {
   "cell_type": "code",
   "execution_count": 9,
   "id": "9c3ad39e",
   "metadata": {},
   "outputs": [],
   "source": [
    "img = cv.imread(r\"C:\\Users\\ANUJ BELGAONKAR\\Desktop\\New folder (2)\\images.jpg\")\n",
    "cv.imshow('Color',img)\n",
    "canny = cv.Canny(img, threshold1 = 50, threshold2 = 75)\n",
    "cv.imshow('Canny', canny)\n",
    "blur = cv.GaussianBlur(img, (5,5), cv.BORDER_DEFAULT)## cv.BORDER_DEFAULT extrapolate when pixles outside the frame are required, replicates border pixels\n",
    "canny1 = cv.Canny(blur, 125, 175)\n",
    "cv.imshow('CannyBlured', canny1)\n",
    "cv.waitKey(0)\n",
    "cv.destroyAllWindows()"
   ]
  },
  {
   "cell_type": "markdown",
   "id": "eb2d0d0a",
   "metadata": {},
   "source": [
    "Image Dilation and erosion"
   ]
  },
  {
   "cell_type": "code",
   "execution_count": 2,
   "id": "0e4679f0",
   "metadata": {},
   "outputs": [
    {
     "name": "stdout",
     "output_type": "stream",
     "text": [
      "[[1 1 1]\n",
      " [1 1 1]\n",
      " [1 1 1]]\n",
      "[[0 1 0]\n",
      " [1 1 1]\n",
      " [0 1 0]]\n",
      "[[0 1 0]\n",
      " [1 1 1]\n",
      " [0 1 0]]\n"
     ]
    }
   ],
   "source": [
    "img = cv.imread(r\"C:\\Users\\ANUJ BELGAONKAR\\Desktop\\New folder (2)\\images.jpg\")\n",
    "kernel = np.ones((3,3),np.uint8)\n",
    "print(kernel)\n",
    "print(\"-------\")\n",
    "kernel_circular = kernel = cv.getStructuringElement(cv.MORPH_ELLIPSE,(3,3))\n",
    "kernel_cross = cv.getStructuringElement(cv.MORPH_CROSS,(3,3))\n",
    "print(kernel_circular)\n",
    "print(\"-------\")\n",
    "print(kernel_cross)\n",
    "try:\n",
    "    cv.imshow('Color',img)\n",
    "    canny = cv.Canny(img, 200, 215)\n",
    "    cv.imshow('Canny', canny)\n",
    "    dilate = cv.dilate(canny, kernel, iterations = 1)\n",
    "    cv.imshow('Dilated', dilate)\n",
    "    eroded = cv.erode(dilate, (3,3), iterations = 3) # 3x3 kernel by default all one's\n",
    "    cv.imshow('Eroded', eroded)\n",
    "    dilate_circular = cv.dilate(canny, kernel_circular,iterations = 1)\n",
    "    cv.imshow('Circular Dilate', dilate_circular)\n",
    "    dilate_cross = cv.dilate(canny,kernel_cross,iterations = 1)\n",
    "    cv.imshow(\"Cross Dilate\", dilate_cross)\n",
    "    cv.waitKey(0)\n",
    "    cv.destroyAllWindows()\n",
    "except:\n",
    "    print(\"vsvsv\")"
   ]
  },
  {
   "cell_type": "markdown",
   "id": "349c2d3b",
   "metadata": {},
   "source": [
    "In Opencv the positive y asix is towards the south"
   ]
  },
  {
   "cell_type": "markdown",
   "id": "bdff955a",
   "metadata": {},
   "source": [
    "### Warp Prespective"
   ]
  },
  {
   "cell_type": "code",
   "execution_count": 56,
   "id": "36becb1b",
   "metadata": {},
   "outputs": [],
   "source": [
    "try:\n",
    "    img = cv.imread(r\"C:\\Users\\ANUJ BELGAONKAR\\Pictures\\Camera Roll\\WIN_20231103_08_42_25_Pro.jpg\")\n",
    "    width,height = 200,200\n",
    "    pts1 = np.float32([[634,399],[793,399],[653,561],[793,561]])\n",
    "    pts2 = np.float32([[0,0],[width,0],[0,height],[width,height]])\n",
    "    matrix = cv.getPerspectiveTransform(pts1,pts2)\n",
    "    img_wraped_perspective = cv.warpPerspective(img,matrix,(width,height))\n",
    "    cv.imshow(\"Image\", img)\n",
    "    cv.imshow(\"Wraped Perspective\", img_wraped_perspective)\n",
    "    cv.waitKey(0)\n",
    "    cv.destroyAllWindows()\n",
    "except Exception as e:\n",
    "    print(\"Error\", e)\n",
    "    cv.destroyAllWindows()\n",
    "\n",
    "## Basically mapping pts1 onto pts2"
   ]
  },
  {
   "cell_type": "markdown",
   "id": "f3ceba94",
   "metadata": {},
   "source": [
    "### Joining Image"
   ]
  },
  {
   "cell_type": "code",
   "execution_count": 1,
   "id": "c6a0d0a1",
   "metadata": {},
   "outputs": [
    {
     "ename": "NameError",
     "evalue": "name 'cv' is not defined",
     "output_type": "error",
     "traceback": [
      "\u001b[1;31m---------------------------------------------------------------------------\u001b[0m",
      "\u001b[1;31mNameError\u001b[0m                                 Traceback (most recent call last)",
      "Cell \u001b[1;32mIn[1], line 1\u001b[0m\n\u001b[1;32m----> 1\u001b[0m img \u001b[38;5;241m=\u001b[39m \u001b[43mcv\u001b[49m\u001b[38;5;241m.\u001b[39mimread(\u001b[38;5;124mr\u001b[39m\u001b[38;5;124m\"\u001b[39m\u001b[38;5;124mC:\u001b[39m\u001b[38;5;124m\\\u001b[39m\u001b[38;5;124mUsers\u001b[39m\u001b[38;5;124m\\\u001b[39m\u001b[38;5;124mANUJ BELGAONKAR\u001b[39m\u001b[38;5;124m\\\u001b[39m\u001b[38;5;124mDesktop\u001b[39m\u001b[38;5;124m\\\u001b[39m\u001b[38;5;124mNew folder (2)\u001b[39m\u001b[38;5;124m\\\u001b[39m\u001b[38;5;124mimages.jpg\u001b[39m\u001b[38;5;124m\"\u001b[39m)\n\u001b[0;32m      2\u001b[0m kernel \u001b[38;5;241m=\u001b[39m np\u001b[38;5;241m.\u001b[39mones((\u001b[38;5;241m3\u001b[39m,\u001b[38;5;241m3\u001b[39m),np\u001b[38;5;241m.\u001b[39muint8)\n\u001b[0;32m      3\u001b[0m \u001b[38;5;28mprint\u001b[39m(kernel)\n",
      "\u001b[1;31mNameError\u001b[0m: name 'cv' is not defined"
     ]
    }
   ],
   "source": [
    "img = cv.imread(r\"C:\\Users\\ANUJ BELGAONKAR\\Desktop\\New folder (2)\\images.jpg\")\n",
    "kernel = np.ones((3,3),np.uint8)\n",
    "print(kernel)\n",
    "print(\"-------\")\n",
    "kernel_circular = kernel = cv.getStructuringElement(cv.MORPH_ELLIPSE,(3,3))\n",
    "kernel_cross = cv.getStructuringElement(cv.MORPH_CROSS,(3,3))\n",
    "print(kernel_circular)\n",
    "print(\"-------\")\n",
    "print(kernel_cross)\n",
    "try:\n",
    "    canny = cv.Canny(img, 200, 215)\n",
    "    dilate = cv.dilate(canny, kernel, iterations = 1)\n",
    "    eroded = cv.erode(dilate, (3,3), iterations = 3) # 3x3 kernel by default all one's\n",
    "    dilate_circular = cv.dilate(canny, kernel_circular,iterations = 1)\n",
    "    dilate_cross = cv.dilate(canny,kernel_cross,iterations = 1)\n",
    "    images_horizontal = np.hstack((canny,dilate,eroded)) ## concatenate images should have same number of channels\n",
    "    cv.imshow(\"horizontal\",images_horizontal)\n",
    "    image_vertical = np.vstack((canny,dilate,eroded))\n",
    "    cv.imshow(\"Vertical\", image_vertical)\n",
    "    cv.waitKey(0)\n",
    "    cv.destroyAllWindows()\n",
    "except Exception as e:\n",
    "    print(e)\n",
    "    cv.destroyAllWindows()"
   ]
  },
  {
   "cell_type": "markdown",
   "id": "7cd6f8e7",
   "metadata": {},
   "source": [
    "### Identify colour can use used for color filtering"
   ]
  },
  {
   "cell_type": "code",
   "execution_count": 17,
   "id": "56b6b714",
   "metadata": {},
   "outputs": [],
   "source": [
    "try:\n",
    "    def track(a):\n",
    "        pass\n",
    "\n",
    "    img = cv.imread(r\"C:\\Users\\ANUJ BELGAONKAR\\Pictures\\Camera Roll\\WIN_20231103_08_42_25_Pro.jpg\")\n",
    "    img = cv.resize(img,(500,500), interpolation = cv.INTER_AREA)\n",
    "    cv.namedWindow(\"Trackbars\")\n",
    "    cv.resizeWindow(\"Trackbars\",500,250)\n",
    "    cv.createTrackbar(\"Hue Min\",\"Trackbars\", 0,255,track)\n",
    "    cv.createTrackbar(\"Hue Max\",\"Trackbars\", 255,255,track)\n",
    "    cv.createTrackbar(\"Saturation Min\", \"Trackbars\",0,255,track)\n",
    "    cv.createTrackbar(\"Saturation Max\", \"Trackbars\",255,255,track)\n",
    "    cv.createTrackbar(\"Value Min\",\"Trackbars\", 0,255,track)\n",
    "    cv.createTrackbar(\"Value Max\", \"Trackbars\",255,255,track)\n",
    "    ## reading trackbar values to apply on image\n",
    "    imgHSV = cv.cvtColor(img,cv.COLOR_RGB2HSV)\n",
    "    while True:\n",
    "        h_min = cv.getTrackbarPos(\"Hue Min\", \"Trackbars\")\n",
    "        h_max = cv.getTrackbarPos(\"Hue Max\", \"Trackbars\")\n",
    "        s_min = cv.getTrackbarPos(\"Saturation Min\", \"Trackbars\")\n",
    "        s_max = cv.getTrackbarPos(\"Saturation Max\", \"Trackbars\")\n",
    "        v_min = cv.getTrackbarPos(\"Value Min\", \"Trackbars\")\n",
    "        v_max = cv.getTrackbarPos(\"Value Max\", \"Trackbars\")\n",
    "        lower = np.array([h_min,s_min,v_min])\n",
    "        upper = np.array([h_max,s_max,v_max])\n",
    "        mask = cv.inRange(imgHSV,lower,upper)\n",
    "        result = cv.bitwise_and(imgHSV,imgHSV,mask = mask)\n",
    "        cv.imshow(\"HSV image\",imgHSV)\n",
    "        cv.imshow(\"Mask\", mask)\n",
    "        cv.imshow(\"Mask Applied\", result)\n",
    "        cv.imshow(\"Original\",img)\n",
    "        ## define hue saturation and value limit and is image region falls within that we filter that color\n",
    "        if(cv.waitKey(5) & 0xFF == ord('d')):\n",
    "            cv.destroyAllWindows()\n",
    "            break\n",
    "except Exception as e:\n",
    "    print(e)\n",
    "    cv.destroyAllWindows()"
   ]
  },
  {
   "cell_type": "code",
   "execution_count": 21,
   "id": "f3a7b056",
   "metadata": {},
   "outputs": [],
   "source": [
    "try:\n",
    "    def track(a):\n",
    "        pass\n",
    "\n",
    "    img = cv.imread(r\"C:\\Users\\ANUJ BELGAONKAR\\Pictures\\Camera Roll\\WIN_20231103_08_42_25_Pro.jpg\")\n",
    "    img = cv.resize(img,(500,500), interpolation = cv.INTER_AREA)\n",
    "    cv.namedWindow(\"Trackbars\")\n",
    "    cv.resizeWindow(\"Trackbars\",500,250)\n",
    "    cv.createTrackbar(\"Red Min\",\"Trackbars\", 0,255,track)\n",
    "    cv.createTrackbar(\"Green Min\",\"Trackbars\", 0,255,track)\n",
    "    cv.createTrackbar(\"Blue Min\", \"Trackbars\",0,255,track)\n",
    "    ## reading trackbar values to apply on image\n",
    "    while True:\n",
    "        img_test = img\n",
    "        r_min = cv.getTrackbarPos(\"Red Min\", \"Trackbars\")\n",
    "        g_min = cv.getTrackbarPos(\"Green Min\", \"Trackbars\")\n",
    "        b_min = cv.getTrackbarPos(\"Blue Min\", \"Trackbars\")\n",
    "        lower = np.array([r_min,g_min,b_min])\n",
    "        upper = np.array([255,255,255])\n",
    "        mask = cv.inRange(img_test,lower,upper)\n",
    "        result = cv.bitwise_and(img_test,img_test,mask = mask)\n",
    "        cv.imshow(\"Mask\", mask)\n",
    "        cv.imshow(\"Mask Applied\", result)\n",
    "        cv.imshow(\"Original\",img)\n",
    "        ## define hue saturation and value limit and is image region falls within that we filter that color\n",
    "        if(cv.waitKey(5) & 0xFF == ord('d')):\n",
    "            cv.destroyAllWindows()\n",
    "            break\n",
    "except Exception as e:\n",
    "    print(e)\n",
    "    cv.destroyAllWindows()"
   ]
  },
  {
   "cell_type": "markdown",
   "id": "d4a68b62",
   "metadata": {},
   "source": [
    "lower = np.array([r_min,g_min,b_min])\n",
    "        upper = np.array([255,255,255])\n",
    "        mask = cv.inRange(img_test,lower,upper)\n",
    "        result = cv.bitwise_and(img_test,img_test,mask = mask)"
   ]
  },
  {
   "cell_type": "code",
   "execution_count": 26,
   "id": "508e63a5",
   "metadata": {},
   "outputs": [
    {
     "data": {
      "text/plain": [
       "'\\nlower = np.array([r_min,g_min,b_min])\\nupper = np.array([255,255,255])\\nmask = cv.inRange(img_test,lower,upper)\\nresult = cv.bitwise_and(img_test,img_test,mask = mask)\\n'"
      ]
     },
     "execution_count": 26,
     "metadata": {},
     "output_type": "execute_result"
    }
   ],
   "source": [
    "'''\n",
    "lower = np.array([r_min,g_min,b_min])\n",
    "upper = np.array([255,255,255])\n",
    "mask = cv.inRange(img_test,lower,upper)\n",
    "result = cv.bitwise_and(img_test,img_test,mask = mask)\n",
    "'''\n",
    "# Essential for colour filtering"
   ]
  },
  {
   "cell_type": "markdown",
   "id": "0c2b3e32",
   "metadata": {},
   "source": [
    "### Shape / Contour detection"
   ]
  },
  {
   "cell_type": "code",
   "execution_count": 3,
   "id": "395ea1d0",
   "metadata": {},
   "outputs": [
    {
     "name": "stdout",
     "output_type": "stream",
     "text": [
      "5220.5\n",
      "287.11983811855316\n",
      "9\n",
      "6463.0\n",
      "302.2497808933258\n",
      "8\n",
      "7165.5\n",
      "348.0071402788162\n",
      "8\n",
      "6605.5\n",
      "464.5168067216873\n",
      "10\n",
      "15075.0\n",
      "484.3330411911011\n",
      "6\n",
      "13781.5\n",
      "467.34523379802704\n",
      "5\n",
      "8196.5\n",
      "362.2426406145096\n",
      "4\n",
      "13491.5\n",
      "467.0710676908493\n",
      "4\n"
     ]
    }
   ],
   "source": [
    "def get_contours(image):\n",
    "    try:\n",
    "        contours,hierarchy = cv.findContours(image,cv.RETR_EXTERNAL,cv.CHAIN_APPROX_NONE)\n",
    "        for cnt in contours:\n",
    "            area = cv.contourArea(cnt)\n",
    "            if area > 200:\n",
    "                print(area)\n",
    "                cv.drawContours(img_contour,cnt,-1,(0,0,255),2)\n",
    "                peri = cv.arcLength(cnt,True) # True = closed\n",
    "                print(peri)\n",
    "                approx_pts = cv.approxPolyDP(cnt,0.02*peri,True)\n",
    "                print(len(approx_pts)) # gives corner points\n",
    "                objCor = len(approx_pts)\n",
    "                x,y,w,h = cv.boundingRect(approx_pts)\n",
    "                cv.rectangle(img_contour,(x,y),(x+w,y+h),(0,0,0),2) ## creats bounding boxes\n",
    "                if objCor>4:\n",
    "                    cv.putText(img_contour, 'Polygon', (x+w//2,y+h//2), fontFace = cv.FONT_HERSHEY_SIMPLEX, fontScale = 0.5, color = (255,255,0), thickness = 2)\n",
    "                else:\n",
    "                    cv.putText(img_contour, 'Not Polygon', (x+w//2,y+h//2), fontFace = cv.FONT_HERSHEY_SIMPLEX, fontScale = 0.5, color = (255,255,0), thickness = 2)\n",
    "\n",
    "    except Exception as e:\n",
    "        print(e)\n",
    " \n",
    "try:\n",
    "    img = cv.imread(r\"C:\\Users\\ANUJ BELGAONKAR\\Desktop\\2D_Simple_Shapes-01.jpg\")\n",
    "    img = cv.resize(img,(500,500), interpolation = cv.INTER_AREA)\n",
    "    img_contour = img.copy()\n",
    "    gray = cv.cvtColor(img,cv.COLOR_RGB2GRAY)\n",
    "    blur = cv.GaussianBlur(gray,(11,11),1)\n",
    "    canny = cv.Canny(blur,50,50)\n",
    "    get_contours(canny)\n",
    "    cv.imshow(\"gray\",gray)\n",
    "    cv.imshow(\"blur\",blur)\n",
    "    cv.imshow(\"canny\",canny)\n",
    "    cv.imshow(\"Contours\",img_contour)\n",
    "    cv.waitKey(0)\n",
    "    cv.destroyAllWindows()\n",
    "except Exception as e:\n",
    "    print(e)"
   ]
  },
  {
   "cell_type": "markdown",
   "id": "d1c65034",
   "metadata": {},
   "source": [
    "### Face Detection using Default Cascaddes"
   ]
  },
  {
   "cell_type": "code",
   "execution_count": 2,
   "id": "f1fdd770",
   "metadata": {},
   "outputs": [],
   "source": [
    "try:\n",
    "    facecascade = cv.CascadeClassifier(\"haarcascade_frontalface_alt.xml\")\n",
    "    img = cv.imread(r\"C:\\Users\\ANUJ BELGAONKAR\\Pictures\\Camera Roll\\WIN_20231103_08_42_25_Pro.jpg\")\n",
    "    img_gray = cv.cvtColor(img, cv.COLOR_RGB2GRAY)\n",
    "    faces = facecascade.detectMultiScale(img_gray,1.7,1)\n",
    "    for (x,y,w,h) in faces:\n",
    "        cv.rectangle(img, (x,y),(x+w,y+h), (0,255,255), 2)\n",
    "    cv.imshow(\"Gray\",img)\n",
    "    cv.waitKey(0)\n",
    "    cv.destroyAllWindows()\n",
    "except Exception as e:\n",
    "    print(e)\n"
   ]
  },
  {
   "cell_type": "markdown",
   "id": "23b2ed27",
   "metadata": {},
   "source": [
    "### Color filtering Video"
   ]
  },
  {
   "cell_type": "code",
   "execution_count": 13,
   "id": "c67cd8cc",
   "metadata": {},
   "outputs": [],
   "source": [
    "capture = cv.VideoCapture(0)\n",
    "capture.set(3,500)\n",
    "capture.set(4,500)\n",
    "capture.set(10,100)\n",
    "try:\n",
    "    def track(a):\n",
    "        pass\n",
    "    cv.namedWindow(\"Trackbars\")\n",
    "    cv.resizeWindow(\"Trackbars\",500,250)\n",
    "    cv.createTrackbar(\"Red Min\",\"Trackbars\", 0,255,track)\n",
    "    cv.createTrackbar(\"Green Min\",\"Trackbars\", 0,255,track)\n",
    "    cv.createTrackbar(\"Blue Min\", \"Trackbars\",0,255,track)\n",
    "    ## reading trackbar values to apply on image\n",
    "    while True:\n",
    "        istrue,frame = capture.read()\n",
    "        if istrue:\n",
    "            r_min = cv.getTrackbarPos(\"Red Min\", \"Trackbars\")\n",
    "            g_min = cv.getTrackbarPos(\"Green Min\", \"Trackbars\")\n",
    "            b_min = cv.getTrackbarPos(\"Blue Min\", \"Trackbars\")\n",
    "            lower = np.array([r_min,g_min,b_min])\n",
    "            upper = np.array([255,255,255])\n",
    "            mask = cv.inRange(frame,lower,upper)\n",
    "            result = cv.bitwise_and(frame,frame,mask = mask)\n",
    "            cv.imshow(\"Mask\", mask)\n",
    "            cv.imshow(\"Mask Applied\", result)\n",
    "            cv.imshow(\"Original\",frame)\n",
    "            ## define hue saturation and value limit and is image region falls within that we filter that color\n",
    "            if(cv.waitKey(20) & 0xFF == ord('d')):\n",
    "                cv.destroyAllWindows()\n",
    "                capture.release()\n",
    "                break\n",
    "except Exception as e:\n",
    "    print(e)\n",
    "    cv.destroyAllWindows()\n",
    "    if capture:\n",
    "        capture.release()"
   ]
  },
  {
   "cell_type": "markdown",
   "id": "82518eaf",
   "metadata": {},
   "source": [
    "### FAce detection video"
   ]
  },
  {
   "cell_type": "code",
   "execution_count": 16,
   "id": "f61ab9f3",
   "metadata": {},
   "outputs": [],
   "source": [
    "try:\n",
    "    capture2 = cv.VideoCapture(0)\n",
    "    facecascade = cv.CascadeClassifier(\"haarcascade_frontalface_alt.xml\")\n",
    "    while True:\n",
    "        istrue,img = capture2.read()\n",
    "        if istrue:\n",
    "            img_gray = cv.cvtColor(img, cv.COLOR_RGB2GRAY)\n",
    "            faces = facecascade.detectMultiScale(img_gray,1.7,1)\n",
    "            for (x,y,w,h) in faces:\n",
    "                cv.rectangle(img, (x,y),(x+w,y+h), (0,255,255), 2)\n",
    "            cv.imshow(\"Video\",img)\n",
    "            if(cv.waitKey(20) & 0xFF == ord('d')):\n",
    "                cv.destroyAllWindows()\n",
    "                capture2.release()\n",
    "                break         \n",
    "except Exception as e:\n",
    "    print(e)\n",
    "    cv.destroyAllWindows()\n",
    "    capture2.release()\n",
    "\n"
   ]
  },
  {
   "cell_type": "code",
   "execution_count": 43,
   "id": "4d8c0bd0",
   "metadata": {},
   "outputs": [],
   "source": [
    "try:\n",
    "    def track(a):\n",
    "        pass\n",
    "    capture = cv.VideoCapture(0)\n",
    "    capture.set(3,500)\n",
    "    capture.set(4,500)\n",
    "    cv.namedWindow(\"Trackbars\")\n",
    "    cv.resizeWindow(\"Trackbars\",500,250)\n",
    "    cv.createTrackbar(\"Hue Min\",\"Trackbars\", 0,255,track)\n",
    "    cv.createTrackbar(\"Hue Max\",\"Trackbars\", 255,255,track)\n",
    "    cv.createTrackbar(\"Saturation Min\", \"Trackbars\",0,255,track)\n",
    "    cv.createTrackbar(\"Saturation Max\", \"Trackbars\",255,255,track)\n",
    "    cv.createTrackbar(\"Value Min\",\"Trackbars\", 0,255,track)\n",
    "    cv.createTrackbar(\"Value Max\", \"Trackbars\",255,255,track)\n",
    "    ## reading trackbar values to apply on image\n",
    "    while True:\n",
    "        istrue,img = capture.read()\n",
    "        if istrue:\n",
    "            imgHSV = cv.cvtColor(img,cv.COLOR_BGR2HSV)\n",
    "            h_min = cv.getTrackbarPos(\"Hue Min\", \"Trackbars\")\n",
    "            h_max = cv.getTrackbarPos(\"Hue Max\", \"Trackbars\")\n",
    "            s_min = cv.getTrackbarPos(\"Saturation Min\", \"Trackbars\")\n",
    "            s_max = cv.getTrackbarPos(\"Saturation Max\", \"Trackbars\")\n",
    "            v_min = cv.getTrackbarPos(\"Value Min\", \"Trackbars\")\n",
    "            v_max = cv.getTrackbarPos(\"Value Max\", \"Trackbars\")\n",
    "            lower = np.array([h_min,s_min,v_min])\n",
    "            upper = np.array([h_max,s_max,v_max])\n",
    "            mask = cv.inRange(imgHSV,lower,upper)\n",
    "            result = cv.bitwise_and(img,img,mask = mask)\n",
    "            cv.imshow(\"Mask\", mask)\n",
    "            cv.imshow(\"Mask Applied\", result)\n",
    "            cv.imshow(\"Original\",img)\n",
    "            ## define hue saturation and value limit and is image region falls within that we filter that color\n",
    "            if(cv.waitKey(20) & 0xFF == ord('d')):\n",
    "                cv.destroyAllWindows()\n",
    "                capture.release()\n",
    "                break\n",
    "except Exception as e:\n",
    "    print(e)\n",
    "    cv.destroyAllWindows()\n",
    "    capture.release()"
   ]
  },
  {
   "cell_type": "code",
   "execution_count": 23,
   "id": "015f75ce",
   "metadata": {},
   "outputs": [],
   "source": [
    "capture.release()"
   ]
  }
 ],
 "metadata": {
  "kernelspec": {
   "display_name": "Python 3 (ipykernel)",
   "language": "python",
   "name": "python3"
  },
  "language_info": {
   "codemirror_mode": {
    "name": "ipython",
    "version": 3
   },
   "file_extension": ".py",
   "mimetype": "text/x-python",
   "name": "python",
   "nbconvert_exporter": "python",
   "pygments_lexer": "ipython3",
   "version": "3.11.3"
  }
 },
 "nbformat": 4,
 "nbformat_minor": 5
}
